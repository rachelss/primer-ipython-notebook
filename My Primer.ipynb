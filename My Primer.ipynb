{
 "metadata": {
  "name": "",
  "signature": "sha256:c4bf0b583d7675aed69347e7ca4419a8356329adfa542b16e959393c9c304af8"
 },
 "nbformat": 3,
 "nbformat_minor": 0,
 "worksheets": [
  {
   "cells": [
    {
     "cell_type": "code",
     "collapsed": false,
     "input": [
      "filex = open(\"defdata.txt\",\"w\")\n",
      "filex.write(\"Species1 AAATTTACCCCCTCGTCGCCTAGAATTACCTACCGCGGTCGACCATACC\\n\")\n",
      "filex.write(\"Species2 AAAAAAGCACCCCTCGTCGCCTAGAATTACCTTTAACGTCGACCATACC\\n\")\n",
      "filex.write(\"Species3 AAAAAAGCACCCCTCGTCGCCTAGAATTACCTACCGCGGTCGACCATACC\\n\")\n",
      "filex.write(\"Species4 AAAAAATTAAGCTCGTCGCCTAGAATTACCTACCGCGGTCGACCATACC\\n\")\n",
      "filex.write(\"Species5 AAAAAAGCACCCCTCGTCGCCCGATTTTACCTACCGCGGTCGACCATACC\")\n",
      "filex.close()\n",
      "    "
     ],
     "language": "python",
     "metadata": {},
     "outputs": [],
     "prompt_number": 4
    },
    {
     "cell_type": "code",
     "collapsed": false,
     "input": [
      "#Tester\n",
      "from random import randint\n",
      "basepairs = [\"A\",\"T\",\"C\",\"G\"]\n",
      "dna = []\n",
      "passdna = \"\"\n",
      "bplength = int(raw_input(\"How many basepairs do you want the test DNA to be:\"))\n",
      "speciesam = int(raw_input(\"How many species do you want:\"))\n",
      "variation = int(raw_input(\"How much variation do you want in the species from 1-10 with 10 being the most variation:\"))\n",
      "filex = open(\"testdata.txt\",\"r+\")\n",
      "for a in range(0,bplength):\n",
      "    dna.append(basepairs[randint(0,3)])\n",
      "for a in range(0,speciesam):\n",
      "    passdna = \"\"\n",
      "    mutdna = dna\n",
      "    for b in range(0,bplength-5):\n",
      "        if(randint(1,100) >= (100-variation*5)):\n",
      "            for c in range(0,5):\n",
      "                mutdna[a+c] = basepairs[randint(0,3)]\n",
      "                b = b + 1\n",
      "    for d in range(0,bplength):\n",
      "        passdna += mutdna[d]\n",
      "    filex.write(\"Species\" + `(a+1)` + \" \" + passdna +\"\\n\")\n",
      "filex.close()\n",
      "filex = open(\"testdata.txt\",\"r+\")\n",
      "print filex.read()\n",
      "filex.close()\n"
     ],
     "language": "python",
     "metadata": {},
     "outputs": [
      {
       "name": "stdout",
       "output_type": "stream",
       "stream": "stdout",
       "text": [
        "How many basepairs do you want the test DNA to be:500\n"
       ]
      },
      {
       "name": "stdout",
       "output_type": "stream",
       "stream": "stdout",
       "text": [
        "How many species do you want:3\n"
       ]
      },
      {
       "name": "stdout",
       "output_type": "stream",
       "stream": "stdout",
       "text": [
        "How much variation do you want in the species from 1-10 with 10 being the most variation:2\n"
       ]
      },
      {
       "output_type": "stream",
       "stream": "stdout",
       "text": [
        "Species1 CATCTGGGGAGCGTAGAAAAGCCCGAATTATAGGAGAGACGGCGTAAGACACAGTTCAGGCCAAGCCCTTTGTCGGTTCTAGCATACTTCCTTACCTGTCCTTTAGCAGGGCCTACCTTGGTCCGGAAATGCTAGAAAATCGTGGTCTCTTGCTAGTGGTACACCGAGCCGAGCCAGGGGTCCTCTCTTTGGTGTCTATCTCTTCTAAATGATGGCTTAGGCCTAATCCGGACCTGGCTTCGTCATCCCATCGGCTCTTGAATCTCACTAAGACTCACCGAGCAGCTGAACGAATGACGCGACCCTTTTACCTTTACGGAGATCCACTCGAGCCACTCCAAAGTAAACCGACACAGAAACAGAACATAGGAAATATTAAAAACAGTATGAAATGCTGTATGTTGCCTAAGTTCTGGAGGTCGCGGGACATGTGGTCGGCAGCGTCTCTGGTCAACGCGCGGGGTCCTGCCTTGTCGACTAGGGACTTCTACCAGTATCGA\n",
        "Species2 CGTGTTGGGAGCGTAGAAAAGCCCGAATTATAGGAGAGACGGCGTAAGACACAGTTCAGGCCAAGCCCTTTGTCGGTTCTAGCATACTTCCTTACCTGTCCTTTAGCAGGGCCTACCTTGGTCCGGAAATGCTAGAAAATCGTGGTCTCTTGCTAGTGGTACACCGAGCCGAGCCAGGGGTCCTCTCTTTGGTGTCTATCTCTTCTAAATGATGGCTTAGGCCTAATCCGGACCTGGCTTCGTCATCCCATCGGCTCTTGAATCTCACTAAGACTCACCGAGCAGCTGAACGAATGACGCGACCCTTTTACCTTTACGGAGATCCACTCGAGCCACTCCAAAGTAAACCGACACAGAAACAGAACATAGGAAATATTAAAAACAGTATGAAATGCTGTATGTTGCCTAAGTTCTGGAGGTCGCGGGACATGTGGTCGGCAGCGTCTCTGGTCAACGCGCGGGGTCCTGCCTTGTCGACTAGGGACTTCTACCAGTATCGA\n",
        "Species3 CGTACTCGGAGCGTAGAAAAGCCCGAATTATAGGAGAGACGGCGTAAGACACAGTTCAGGCCAAGCCCTTTGTCGGTTCTAGCATACTTCCTTACCTGTCCTTTAGCAGGGCCTACCTTGGTCCGGAAATGCTAGAAAATCGTGGTCTCTTGCTAGTGGTACACCGAGCCGAGCCAGGGGTCCTCTCTTTGGTGTCTATCTCTTCTAAATGATGGCTTAGGCCTAATCCGGACCTGGCTTCGTCATCCCATCGGCTCTTGAATCTCACTAAGACTCACCGAGCAGCTGAACGAATGACGCGACCCTTTTACCTTTACGGAGATCCACTCGAGCCACTCCAAAGTAAACCGACACAGAAACAGAACATAGGAAATATTAAAAACAGTATGAAATGCTGTATGTTGCCTAAGTTCTGGAGGTCGCGGGACATGTGGTCGGCAGCGTCTCTGGTCAACGCGCGGGGTCCTGCCTTGTCGACTAGGGACTTCTACCAGTATCGA\n",
        "\n"
       ]
      }
     ],
     "prompt_number": 1
    },
    {
     "cell_type": "code",
     "collapsed": false,
     "input": [
      "import sys\n",
      "import subprocess\n",
      "import collections\n",
      "import random\n",
      " \n",
      "from StringIO import StringIO\n",
      " \n",
      "from Bio import SeqIO\n",
      "from Bio import Seq\n",
      "from Bio.Alphabet import generic_dna\n",
      "from Bio.Emboss import Primer3\n",
      "from Bio.Emboss.Applications import Primer3Commandline\n",
      " "
     ],
     "language": "python",
     "metadata": {},
     "outputs": [],
     "prompt_number": 10
    },
    {
     "cell_type": "code",
     "collapsed": false,
     "input": [
      "choice = (raw_input(\"Are you using default data y/n:\"))\n",
      "if choice == 'y':\n",
      "    filex = open(\"defdata.txt\", \"r\")\n",
      "else:\n",
      "    filex = open(\"testdata.txt\", \"r\")\n",
      "while(filex.readline() != \"\"):\n",
      "    line = filex.readline();\n",
      "    alpha = line.split()\n",
      "    print alpha[0]\n",
      "    print alpha[1]\n",
      "    species = alpha[0]\n",
      "    #loci = Seq(alpha[1],generic_dna)\n",
      "    loci = alpha[1]\n",
      "    #SeqIO.write(loci, \"temp.fasta\", \"fasta\")\n",
      "    #filex = open(\"testdata.txt\", \"r\")\n",
      "    #prmlist= Primer3Commandline(cmd=\"eprimer3\",sequence = \"temp.fasta\", auto=True,hybridprobe = True)\n",
      "    prmlist= Primer3Commandline(cmd=\"eprimer3\",sequence = loci, auto=True,hybridprobe = True)\n",
      "    prmlist.explainflag = True\n",
      "    prmlist.osizeopt=20\n",
      "    prmlist.psizeopt=200\n",
      "    prmlist.outfile = \"prmtext.txt\"\n",
      "    #prmlist()\n",
      "    print (prmlist)\n",
      "    print(Primer3.read(StringIO(open(\"prmtext.txt\",\"r\"))))\n",
      "    #next 2 cells show possibilities to procede\n"
     ],
     "language": "python",
     "metadata": {},
     "outputs": [
      {
       "name": "stdout",
       "output_type": "stream",
       "stream": "stdout",
       "text": [
        "Are you using default data y/n:n\n"
       ]
      },
      {
       "output_type": "stream",
       "stream": "stdout",
       "text": [
        "Species2\n",
        "CGTGTTGGGAGCGTAGAAAAGCCCGAATTATAGGAGAGACGGCGTAAGACACAGTTCAGGCCAAGCCCTTTGTCGGTTCTAGCATACTTCCTTACCTGTCCTTTAGCAGGGCCTACCTTGGTCCGGAAATGCTAGAAAATCGTGGTCTCTTGCTAGTGGTACACCGAGCCGAGCCAGGGGTCCTCTCTTTGGTGTCTATCTCTTCTAAATGATGGCTTAGGCCTAATCCGGACCTGGCTTCGTCATCCCATCGGCTCTTGAATCTCACTAAGACTCACCGAGCAGCTGAACGAATGACGCGACCCTTTTACCTTTACGGAGATCCACTCGAGCCACTCCAAAGTAAACCGACACAGAAACAGAACATAGGAAATATTAAAAACAGTATGAAATGCTGTATGTTGCCTAAGTTCTGGAGGTCGCGGGACATGTGGTCGGCAGCGTCTCTGGTCAACGCGCGGGGTCCTGCCTTGTCGACTAGGGACTTCTACCAGTATCGA\n",
        "eprimer3 -auto -outfile=prmtext.txt -sequence=CGTGTTGGGAGCGTAGAAAAGCCCGAATTATAGGAGAGACGGCGTAAGACACAGTTCAGGCCAAGCCCTTTGTCGGTTCTAGCATACTTCCTTACCTGTCCTTTAGCAGGGCCTACCTTGGTCCGGAAATGCTAGAAAATCGTGGTCTCTTGCTAGTGGTACACCGAGCCGAGCCAGGGGTCCTCTCTTTGGTGTCTATCTCTTCTAAATGATGGCTTAGGCCTAATCCGGACCTGGCTTCGTCATCCCATCGGCTCTTGAATCTCACTAAGACTCACCGAGCAGCTGAACGAATGACGCGACCCTTTTACCTTTACGGAGATCCACTCGAGCCACTCCAAAGTAAACCGACACAGAAACAGAACATAGGAAATATTAAAAACAGTATGAAATGCTGTATGTTGCCTAAGTTCTGGAGGTCGCGGGACATGTGGTCGGCAGCGTCTCTGGTCAACGCGCGGGGTCCTGCCTTGTCGACTAGGGACTTCTACCAGTATCGA -hybridprobe=True -psizeopt=200 -osizeopt=20 -explainflag=True\n"
       ]
      },
      {
       "ename": "IOError",
       "evalue": "[Errno 2] No such file or directory: 'prmtext.txt'",
       "output_type": "pyerr",
       "traceback": [
        "\u001b[1;31m---------------------------------------------------------------------------\u001b[0m\n\u001b[1;31mIOError\u001b[0m                                   Traceback (most recent call last)",
        "\u001b[1;32m<ipython-input-13-fc9b027dd90d>\u001b[0m in \u001b[0;36m<module>\u001b[1;34m()\u001b[0m\n\u001b[0;32m     22\u001b[0m     \u001b[1;31m#prmlist()\u001b[0m\u001b[1;33m\u001b[0m\u001b[1;33m\u001b[0m\u001b[0m\n\u001b[0;32m     23\u001b[0m     \u001b[1;32mprint\u001b[0m \u001b[1;33m(\u001b[0m\u001b[0mprmlist\u001b[0m\u001b[1;33m)\u001b[0m\u001b[1;33m\u001b[0m\u001b[0m\n\u001b[1;32m---> 24\u001b[1;33m     \u001b[1;32mprint\u001b[0m\u001b[1;33m(\u001b[0m\u001b[0mPrimer3\u001b[0m\u001b[1;33m.\u001b[0m\u001b[0mread\u001b[0m\u001b[1;33m(\u001b[0m\u001b[0mStringIO\u001b[0m\u001b[1;33m(\u001b[0m\u001b[0mopen\u001b[0m\u001b[1;33m(\u001b[0m\u001b[1;34m\"prmtext.txt\"\u001b[0m\u001b[1;33m,\u001b[0m\u001b[1;34m\"r\"\u001b[0m\u001b[1;33m)\u001b[0m\u001b[1;33m)\u001b[0m\u001b[1;33m)\u001b[0m\u001b[1;33m)\u001b[0m\u001b[1;33m\u001b[0m\u001b[0m\n\u001b[0m\u001b[0;32m     25\u001b[0m     \u001b[1;31m#next 2 cells show possibilities to procede\u001b[0m\u001b[1;33m\u001b[0m\u001b[1;33m\u001b[0m\u001b[0m\n",
        "\u001b[1;31mIOError\u001b[0m: [Errno 2] No such file or directory: 'prmtext.txt'"
       ]
      }
     ],
     "prompt_number": 13
    },
    {
     "cell_type": "code",
     "collapsed": false,
     "input": [
      "from Bio.Seq import Seq\n",
      "from Bio.Alphabet import IUPAC\n",
      "SEQUENCE_ID = species\n",
      "#2 versions for SEQUENCE_TEMPLATE\n",
      "SEQUENCE_TEMPLATE = loci\n",
      "SEQUENCE_TEMPLATE = Seq(loci, IUPAC.unambigous_dna)\n",
      "="
     ],
     "language": "python",
     "metadata": {},
     "outputs": [],
     "prompt_number": 0
    },
    {
     "cell_type": "code",
     "collapsed": false,
     "input": [
      "SeqIO.write(loci, \"temp.fasta\", \"fasta\")\n",
      "prmlist= Primer3Commandline(cmd=\"eprimer3\",sequence = \"temp.fasta\", auto=True,hybridprobe = True)\n",
      "prmlist.explainflag = True\n",
      "prmlist.osizeopt=20\n",
      "prmlist.psizeopt=200\n",
      "prmlist.outfile = \"prmtext.txt\"\n",
      "prmlist()\n",
      "print (prmlist)\n",
      "print(Primer3.read(StringIO(open(\"prmtext.txt\",\"r\"))))"
     ],
     "language": "python",
     "metadata": {},
     "outputs": []
    },
    {
     "cell_type": "code",
     "collapsed": false,
     "input": [
      "class PrimerTarget:\n",
      "    \"\"\"\n",
      "    Represents a primer target region, with functions to run primer3\n",
      "    \"\"\"\n",
      "    def __init__(self, chrom, pos, target, seq_record):\n",
      "        self.chrom = chrom\n",
      "        self.pos = pos\n",
      "        self.target = target\n",
      "        self.sequence = seq_record\n",
      "    def __repr__(self):\n",
      "        s = \"PrimerTarget(chrom={0}, pos={1}, target={2}, seq_record=SeqRecord(..) )\"\n",
      "        return s.format(self.chrom, self.pos, self.target)\n",
      "    def _parse_primers(self, primer_text):\n",
      "        rec = Primer3.read(StringIO(primer_text))\n",
      "        return rec\n",
      "    def find_primers(self, **kwargs):\n",
      "        \"\"\" \"\"\"\n",
      "        SeqIO.write(self.sequence, \"temp.fasta\", \"fasta\")\n",
      "        call= Primer3Commandline(cmd=\"eprimer32\",\n",
      "        sequence = \"temp.fasta\",\n",
      "        stdout=True, auto=True,\n",
      "        target = \"{0},{1}\".format(*self.target),\n",
      "        **kwargs)\n",
      "        out, err = call()\n",
      "    if err:\n",
      "        print err\n",
      "        return out,err\n",
      "    return self._parse_primers(out) \n",
      "def design_primers(target_region, gc_slide = [20,18,15]):\n",
      "    \"\"\" \"\"\"\n",
      "    name = \"{0}_{1}\".format(target_region.chrom, target_region.pos)\n",
      "    #Does it work by default?\n",
      "    recs = target_region.find_primers(numreturn=1, mintm=57, maxtm=63, maxdifftm=5,)\n",
      "    if recs.primers:\n",
      "        return (name, recs.primers[0])\n",
      "    #OK, how about allowing more and more AT rich\n",
      "    for gc in gc_slide:\n",
      "        recs = target_region.find_primers(numreturn=1, mingc=gc, mintm=57, maxtm=63,maxdifftm=5)\n",
      "        if recs.primers:\n",
      "            return (name, recs.primers[0])\n",
      "    #last desperate attempt\n",
      "    recs = target_region.find_primers(numreturn=1, mingc=15, mintm=48, maxtm=70,maxdifftm=5)\n",
      "    if recs.primers:\n",
      "        return (name, recs.primers[0])\n",
      "    #We just didn't get one, I guess\n",
      "    return None \n",
      "def main():\n",
      "    \"\"\"try:\n",
      "        n, ref, bam, out_name = sys.argv[1:]\n",
      "    except ValueError:\n",
      "        print (\"Need exactly four arguments: number of replicates, reference genome and bam (header) file name of our file\")\n",
      "        return(-1)\n",
      "    print(\"====Sampling the genome====\\n\")\n",
      "    genome = parse_header(bam)\n",
      "    bases = [random.randint(0, genome[-1].end) for _ in range(int(n))]\n",
      "    sites = []\n",
      "    for b in bases:\n",
      "        i = 0\n",
      "        while genome[i].end < b:\n",
      "            i += 1\n",
      "        sites.append( (genome[i].name, b - genome[i].start) )\"\"\"\n",
      "    #print(\"====Designing Primers=====\")\n",
      "    ref_idx = SeqIO.index(ref, \"fasta\")\n",
      "    seqs = [slice_seq(*x, idx=ref_idx) for x in sites]\n",
      "    print(len(seqs))\n",
      "    primers = (design_primers(t) for t in seqs) #generator\n",
      "    counter = 0\n",
      "    with open(out_name, \"w\") as out:\n",
      "        for site_name,p in primers:\n",
      "            if p:\n",
      "                out.write(\"{0} {1} {2}\\n\".format(site_name, p.forward_seq, p.reverse_seq))\n",
      "                counter += 1\n",
      "    print(\"Wrote primers for {0} out of {1} sites\".format(counter, n))\n",
      " \n",
      "    if __name__ == \"__main__\":\n",
      "        main() "
     ],
     "language": "python",
     "metadata": {},
     "outputs": []
    }
   ],
   "metadata": {}
  }
 ]
}