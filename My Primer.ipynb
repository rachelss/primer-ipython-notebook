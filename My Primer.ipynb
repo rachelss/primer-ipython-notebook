{
 "metadata": {
  "name": "",
  "signature": "sha256:45b4aa54540f5294b488d4d72fd7333f3afa768b67c8f3bed21cdc136638ee89"
 },
 "nbformat": 3,
 "nbformat_minor": 0,
 "worksheets": [
  {
   "cells": [
    {
     "cell_type": "markdown",
     "metadata": {},
     "source": [
      "just makes a file that can be used as default to test the primer program"
     ]
    },
    {
     "cell_type": "code",
     "collapsed": false,
     "input": [
      "filex = open(\"defdata.txt\",\"w\")\n",
      "filex.write(\">Species1* AAATTTACCCCCTCGTCGCCTAGAATTACCTACCGCGGTCGACCATACC\\n\")\n",
      "filex.write(\">Species2* AAAAAAGCACCCCTCGTCGCCTAGAATTACCTTTAACGTCGACCATACC\\n\")\n",
      "filex.write(\">Species3* AAAAAAGCACCCCTCGTCGCCTAGAATTACCTACCGCGGTCGACCATACC\\n\")\n",
      "filex.write(\">Species4* AAAAAATTAAGCTCGTCGCCTAGAATTACCTACCGCGGTCGACCATACC\\n\")\n",
      "filex.write(\">Species5* AAAAAAGCACCCCTCGTCGCCCGATTTTACCTACCGCGGTCGACCATACC\")\n",
      "filex.close()\n",
      "    "
     ],
     "language": "python",
     "metadata": {},
     "outputs": [],
     "prompt_number": 1
    },
    {
     "cell_type": "markdown",
     "metadata": {},
     "source": [
      "This allows a user to create a custom random data set. The user is prompted the amount of basepairs they want, the amount of species to compare to, and the amount of variation they want between species. Then a for loop creates the original strand of DNA. Another for loop is used right afterwards which copies the DNA to a new array and then mutates it randomly and stores it as line in a file in the format.\n",
      "\n",
      "Right now the outputfile gets the correct elements, but has a bunch of nonsense text after it. "
     ]
    },
    {
     "cell_type": "code",
     "collapsed": false,
     "input": [
      "#Tester\n",
      "from random import randint\n",
      "basepairs = [\"A\",\"T\",\"C\",\"G\"]\n",
      "dna = []\n",
      "passdna = \"\"\n",
      "bplength = int(raw_input(\"How many basepairs do you want the test DNA to be:\"))\n",
      "speciesam = int(raw_input(\"How many species do you want:\"))\n",
      "variation = int(raw_input(\"How much variation do you want in the species from 1-10 with 10 being the most variation:\"))\n",
      "filey = open(\"testdata.txt\",\"r+\")\n",
      "for a in range(0,bplength):\n",
      "    dna.append(basepairs[randint(0,3)])\n",
      "for a in range(0,speciesam):\n",
      "    passdna = \"\"\n",
      "    mutdna = dna\n",
      "    for b in range(0,bplength-5):\n",
      "        if(randint(1,100) >= (100-variation*5)):\n",
      "            for c in range(0,5):\n",
      "                mutdna[a+c] = basepairs[randint(0,3)]\n",
      "                b = b + 1\n",
      "    for d in range(0,bplength):\n",
      "        passdna += mutdna[d]\n",
      "    filey.write(\"Species\" + `(a+1)` + \" \" + passdna +\"\\n\")\n",
      "filey.close()\n",
      "filey = open(\"testdata.txt\",\"r+\")\n",
      "print filey.read()\n",
      "filey.close()\n"
     ],
     "language": "python",
     "metadata": {},
     "outputs": [
      {
       "name": "stdout",
       "output_type": "stream",
       "stream": "stdout",
       "text": [
        "How many basepairs do you want the test DNA to be:4\n"
       ]
      },
      {
       "name": "stdout",
       "output_type": "stream",
       "stream": "stdout",
       "text": [
        "How many species do you want:20\n"
       ]
      },
      {
       "name": "stdout",
       "output_type": "stream",
       "stream": "stdout",
       "text": [
        "How much variation do you want in the species from 1-10 with 10 being the most variation:1\n"
       ]
      },
      {
       "output_type": "stream",
       "stream": "stdout",
       "text": [
        "Species1 GCAG\n",
        "Species2 GCAG\n",
        "Species3 GCAG\n",
        "Species4 GCAG\n",
        "Species5 GCAG\n",
        "Species6 GCAG\n",
        "Species7 GCAG\n",
        "Species8 GCAG\n",
        "Species9 GCAG\n",
        "Species10 GCAG\n",
        "Species11 GCAG\n",
        "Species12 GCAG\n",
        "Species13 GCAG\n",
        "Species14 GCAG\n",
        "Species15 GCAG\n",
        "Species16 GCAG\n",
        "Species17 GCAG\n",
        "Species18 GCAG\n",
        "Species19 GCAG\n",
        "Species20 GCAG\n",
        "CAGCTGAACGAATGACGCGACCCTTTTACCTTTACGGAGATCCACTCGAGCCACTCCAAAGTAAACCGACACAGAAACAGAACATAGGAAATATTAAAAACAGTATGAAATGCTGTATGTTGCCTAAGTTCTGGAGGTCGCGGGACATGTGGTCGGCAGCGTCTCTGGTCAACGCGCGGGGTCCTGCCTTGTCGACTAGGGACTTCTACCAGTATCGA\n",
        "Species2 CGTGTTGGGAGCGTAGAAAAGCCCGAATTATAGGAGAGACGGCGTAAGACACAGTTCAGGCCAAGCCCTTTGTCGGTTCTAGCATACTTCCTTACCTGTCCTTTAGCAGGGCCTACCTTGGTCCGGAAATGCTAGAAAATCGTGGTCTCTTGCTAGTGGTACACCGAGCCGAGCCAGGGGTCCTCTCTTTGGTGTCTATCTCTTCTAAATGATGGCTTAGGCCTAATCCGGACCTGGCTTCGTCATCCCATCGGCTCTTGAATCTCACTAAGACTCACCGAGCAGCTGAACGAATGACGCGACCCTTTTACCTTTACGGAGATCCACTCGAGCCACTCCAAAGTAAACCGACACAGAAACAGAACATAGGAAATATTAAAAACAGTATGAAATGCTGTATGTTGCCTAAGTTCTGGAGGTCGCGGGACATGTGGTCGGCAGCGTCTCTGGTCAACGCGCGGGGTCCTGCCTTGTCGACTAGGGACTTCTACCAGTATCGA\n",
        "Species3 CGTACTCGGAGCGTAGAAAAGCCCGAATTATAGGAGAGACGGCGTAAGACACAGTTCAGGCCAAGCCCTTTGTCGGTTCTAGCATACTTCCTTACCTGTCCTTTAGCAGGGCCTACCTTGGTCCGGAAATGCTAGAAAATCGTGGTCTCTTGCTAGTGGTACACCGAGCCGAGCCAGGGGTCCTCTCTTTGGTGTCTATCTCTTCTAAATGATGGCTTAGGCCTAATCCGGACCTGGCTTCGTCATCCCATCGGCTCTTGAATCTCACTAAGACTCACCGAGCAGCTGAACGAATGACGCGACCCTTTTACCTTTACGGAGATCCACTCGAGCCACTCCAAAGTAAACCGACACAGAAACAGAACATAGGAAATATTAAAAACAGTATGAAATGCTGTATGTTGCCTAAGTTCTGGAGGTCGCGGGACATGTGGTCGGCAGCGTCTCTGGTCAACGCGCGGGGTCCTGCCTTGTCGACTAGGGACTTCTACCAGTATCGA\n",
        "\n"
       ]
      }
     ],
     "prompt_number": 13
    },
    {
     "cell_type": "markdown",
     "metadata": {},
     "source": [
      "This just imports the commands possibly needed in order to run the Primer3 program and other support functions. It is just kept in a seperate cell for clarity."
     ]
    },
    {
     "cell_type": "code",
     "collapsed": false,
     "input": [
      "import sys\n",
      "import subprocess\n",
      "import collections\n",
      "import random\n",
      " \n",
      "from StringIO import StringIO\n",
      " \n",
      "from Bio import SeqIO\n",
      "from Bio import Seq\n",
      "from Bio.Alphabet import generic_dna\n",
      "from Bio.Emboss import Primer3\n",
      "from Bio.Emboss.Applications import Primer3Commandline\n",
      " "
     ],
     "language": "python",
     "metadata": {},
     "outputs": [],
     "prompt_number": 3
    },
    {
     "cell_type": "markdown",
     "metadata": {},
     "source": [
      "This is the second version of trying to extract the data from the information files and using Primer 3 find the suitable primers."
     ]
    },
    {
     "cell_type": "code",
     "collapsed": false,
     "input": [
      "choice = (raw_input(\"Are you using default data y/n:\"))\n",
      "if choice == 'y':\n",
      "    with open(\"defdata.txt\", \"r\") as f:\n",
      "        with open (\"temp.seq\", \"w\") as f1:\n",
      "            for line in f:\n",
      "                if \"ROW\" in line:\n",
      "                    f1.write(line)    \n",
      "else:\n",
      "    with open(\"testdata.txt\", \"r\") as f:\n",
      "        with open (\"temp.seq\", \"w\") as f1:\n",
      "            for line in f:\n",
      "                if \"ROW\" in line:\n",
      "                    f1.write(line) \n",
      "#SeqIO.write(\"temp.seq\", \"temp.fas\", \"fasta\")\n",
      "prmlist= Primer3Commandline(cmd=\"eprimer32\",sequence = \"temp.seq\", auto=True,hybridprobe = True)\n",
      "#prmlist= Primer3Commandline(cmd=\"eprimer32\",sequence = loci, auto=True,hybridprobe = True)\n",
      "prmlist.explainflag = True\n",
      "prmlist.osizeopt=20\n",
      "prmlist.psizeopt=200\n",
      "prmlist.outfile = \"prmtext.eprimer32\"\n",
      "prmlist()\n",
      "print (prmlist)\n",
      "print(Primer3.read(StringIO(open(\"prmtext.eprimer32\",\"r\"))))"
     ],
     "language": "python",
     "metadata": {},
     "outputs": [
      {
       "name": "stdout",
       "output_type": "stream",
       "stream": "stdout",
       "text": [
        "Are you using default data y/n:y\n"
       ]
      },
      {
       "ename": "AttributeError",
       "evalue": "'str' object has no attribute 'id'",
       "output_type": "pyerr",
       "traceback": [
        "\u001b[1;31m---------------------------------------------------------------------------\u001b[0m\n\u001b[1;31mAttributeError\u001b[0m                            Traceback (most recent call last)",
        "\u001b[1;32m<ipython-input-11-c29ea45c2d1d>\u001b[0m in \u001b[0;36m<module>\u001b[1;34m()\u001b[0m\n\u001b[0;32m     12\u001b[0m                 \u001b[1;32mif\u001b[0m \u001b[1;34m\"ROW\"\u001b[0m \u001b[1;32min\u001b[0m \u001b[0mline\u001b[0m\u001b[1;33m:\u001b[0m\u001b[1;33m\u001b[0m\u001b[0m\n\u001b[0;32m     13\u001b[0m                     \u001b[0mf1\u001b[0m\u001b[1;33m.\u001b[0m\u001b[0mwrite\u001b[0m\u001b[1;33m(\u001b[0m\u001b[0mline\u001b[0m\u001b[1;33m)\u001b[0m\u001b[1;33m\u001b[0m\u001b[0m\n\u001b[1;32m---> 14\u001b[1;33m \u001b[0mSeqIO\u001b[0m\u001b[1;33m.\u001b[0m\u001b[0mwrite\u001b[0m\u001b[1;33m(\u001b[0m\u001b[1;34m\"temp.seq\"\u001b[0m\u001b[1;33m,\u001b[0m \u001b[1;34m\"temp.fas\"\u001b[0m\u001b[1;33m,\u001b[0m \u001b[1;34m\"fasta\"\u001b[0m\u001b[1;33m)\u001b[0m\u001b[1;33m\u001b[0m\u001b[0m\n\u001b[0m\u001b[0;32m     15\u001b[0m \u001b[0mprmlist\u001b[0m\u001b[1;33m=\u001b[0m \u001b[0mPrimer3Commandline\u001b[0m\u001b[1;33m(\u001b[0m\u001b[0mcmd\u001b[0m\u001b[1;33m=\u001b[0m\u001b[1;34m\"eprimer32\"\u001b[0m\u001b[1;33m,\u001b[0m\u001b[0msequence\u001b[0m \u001b[1;33m=\u001b[0m \u001b[1;34m\"temp.fas\"\u001b[0m\u001b[1;33m,\u001b[0m \u001b[0mauto\u001b[0m\u001b[1;33m=\u001b[0m\u001b[0mTrue\u001b[0m\u001b[1;33m,\u001b[0m\u001b[0mhybridprobe\u001b[0m \u001b[1;33m=\u001b[0m \u001b[0mTrue\u001b[0m\u001b[1;33m)\u001b[0m\u001b[1;33m\u001b[0m\u001b[0m\n\u001b[0;32m     16\u001b[0m \u001b[1;31m#prmlist= Primer3Commandline(cmd=\"eprimer32\",sequence = loci, auto=True,hybridprobe = True)\u001b[0m\u001b[1;33m\u001b[0m\u001b[1;33m\u001b[0m\u001b[0m\n",
        "\u001b[1;32m/home/sunnynm/Enthought/Canopy_64bit/User/lib/python2.7/site-packages/Bio/SeqIO/__init__.pyc\u001b[0m in \u001b[0;36mwrite\u001b[1;34m(sequences, handle, format)\u001b[0m\n\u001b[0;32m    465\u001b[0m         \u001b[1;32mif\u001b[0m \u001b[0mformat\u001b[0m \u001b[1;32min\u001b[0m \u001b[0m_FormatToWriter\u001b[0m\u001b[1;33m:\u001b[0m\u001b[1;33m\u001b[0m\u001b[0m\n\u001b[0;32m    466\u001b[0m             \u001b[0mwriter_class\u001b[0m \u001b[1;33m=\u001b[0m \u001b[0m_FormatToWriter\u001b[0m\u001b[1;33m[\u001b[0m\u001b[0mformat\u001b[0m\u001b[1;33m]\u001b[0m\u001b[1;33m\u001b[0m\u001b[0m\n\u001b[1;32m--> 467\u001b[1;33m             \u001b[0mcount\u001b[0m \u001b[1;33m=\u001b[0m \u001b[0mwriter_class\u001b[0m\u001b[1;33m(\u001b[0m\u001b[0mfp\u001b[0m\u001b[1;33m)\u001b[0m\u001b[1;33m.\u001b[0m\u001b[0mwrite_file\u001b[0m\u001b[1;33m(\u001b[0m\u001b[0msequences\u001b[0m\u001b[1;33m)\u001b[0m\u001b[1;33m\u001b[0m\u001b[0m\n\u001b[0m\u001b[0;32m    468\u001b[0m         \u001b[1;32melif\u001b[0m \u001b[0mformat\u001b[0m \u001b[1;32min\u001b[0m \u001b[0mAlignIO\u001b[0m\u001b[1;33m.\u001b[0m\u001b[0m_FormatToWriter\u001b[0m\u001b[1;33m:\u001b[0m\u001b[1;33m\u001b[0m\u001b[0m\n\u001b[0;32m    469\u001b[0m             \u001b[1;31m#Try and turn all the records into a single alignment,\u001b[0m\u001b[1;33m\u001b[0m\u001b[1;33m\u001b[0m\u001b[0m\n",
        "\u001b[1;32m/home/sunnynm/Enthought/Canopy_64bit/User/lib/python2.7/site-packages/Bio/SeqIO/Interfaces.pyc\u001b[0m in \u001b[0;36mwrite_file\u001b[1;34m(self, records)\u001b[0m\n\u001b[0;32m    205\u001b[0m         \"\"\"\n\u001b[0;32m    206\u001b[0m         \u001b[0mself\u001b[0m\u001b[1;33m.\u001b[0m\u001b[0mwrite_header\u001b[0m\u001b[1;33m(\u001b[0m\u001b[1;33m)\u001b[0m\u001b[1;33m\u001b[0m\u001b[0m\n\u001b[1;32m--> 207\u001b[1;33m         \u001b[0mcount\u001b[0m \u001b[1;33m=\u001b[0m \u001b[0mself\u001b[0m\u001b[1;33m.\u001b[0m\u001b[0mwrite_records\u001b[0m\u001b[1;33m(\u001b[0m\u001b[0mrecords\u001b[0m\u001b[1;33m)\u001b[0m\u001b[1;33m\u001b[0m\u001b[0m\n\u001b[0m\u001b[0;32m    208\u001b[0m         \u001b[0mself\u001b[0m\u001b[1;33m.\u001b[0m\u001b[0mwrite_footer\u001b[0m\u001b[1;33m(\u001b[0m\u001b[1;33m)\u001b[0m\u001b[1;33m\u001b[0m\u001b[0m\n\u001b[0;32m    209\u001b[0m         \u001b[1;32mreturn\u001b[0m \u001b[0mcount\u001b[0m\u001b[1;33m\u001b[0m\u001b[0m\n",
        "\u001b[1;32m/home/sunnynm/Enthought/Canopy_64bit/User/lib/python2.7/site-packages/Bio/SeqIO/Interfaces.pyc\u001b[0m in \u001b[0;36mwrite_records\u001b[1;34m(self, records)\u001b[0m\n\u001b[0;32m    190\u001b[0m         \u001b[0mcount\u001b[0m \u001b[1;33m=\u001b[0m \u001b[1;36m0\u001b[0m\u001b[1;33m\u001b[0m\u001b[0m\n\u001b[0;32m    191\u001b[0m         \u001b[1;32mfor\u001b[0m \u001b[0mrecord\u001b[0m \u001b[1;32min\u001b[0m \u001b[0mrecords\u001b[0m\u001b[1;33m:\u001b[0m\u001b[1;33m\u001b[0m\u001b[0m\n\u001b[1;32m--> 192\u001b[1;33m             \u001b[0mself\u001b[0m\u001b[1;33m.\u001b[0m\u001b[0mwrite_record\u001b[0m\u001b[1;33m(\u001b[0m\u001b[0mrecord\u001b[0m\u001b[1;33m)\u001b[0m\u001b[1;33m\u001b[0m\u001b[0m\n\u001b[0m\u001b[0;32m    193\u001b[0m             \u001b[0mcount\u001b[0m \u001b[1;33m+=\u001b[0m \u001b[1;36m1\u001b[0m\u001b[1;33m\u001b[0m\u001b[0m\n\u001b[0;32m    194\u001b[0m         \u001b[1;31m#Mark as true, even if there where no records\u001b[0m\u001b[1;33m\u001b[0m\u001b[1;33m\u001b[0m\u001b[0m\n",
        "\u001b[1;32m/home/sunnynm/Enthought/Canopy_64bit/User/lib/python2.7/site-packages/Bio/SeqIO/FastaIO.pyc\u001b[0m in \u001b[0;36mwrite_record\u001b[1;34m(self, record)\u001b[0m\n\u001b[0;32m    184\u001b[0m             \u001b[0mtitle\u001b[0m \u001b[1;33m=\u001b[0m \u001b[0mself\u001b[0m\u001b[1;33m.\u001b[0m\u001b[0mclean\u001b[0m\u001b[1;33m(\u001b[0m\u001b[0mself\u001b[0m\u001b[1;33m.\u001b[0m\u001b[0mrecord2title\u001b[0m\u001b[1;33m(\u001b[0m\u001b[0mrecord\u001b[0m\u001b[1;33m)\u001b[0m\u001b[1;33m)\u001b[0m\u001b[1;33m\u001b[0m\u001b[0m\n\u001b[0;32m    185\u001b[0m         \u001b[1;32melse\u001b[0m\u001b[1;33m:\u001b[0m\u001b[1;33m\u001b[0m\u001b[0m\n\u001b[1;32m--> 186\u001b[1;33m             \u001b[0mid\u001b[0m \u001b[1;33m=\u001b[0m \u001b[0mself\u001b[0m\u001b[1;33m.\u001b[0m\u001b[0mclean\u001b[0m\u001b[1;33m(\u001b[0m\u001b[0mrecord\u001b[0m\u001b[1;33m.\u001b[0m\u001b[0mid\u001b[0m\u001b[1;33m)\u001b[0m\u001b[1;33m\u001b[0m\u001b[0m\n\u001b[0m\u001b[0;32m    187\u001b[0m             \u001b[0mdescription\u001b[0m \u001b[1;33m=\u001b[0m \u001b[0mself\u001b[0m\u001b[1;33m.\u001b[0m\u001b[0mclean\u001b[0m\u001b[1;33m(\u001b[0m\u001b[0mrecord\u001b[0m\u001b[1;33m.\u001b[0m\u001b[0mdescription\u001b[0m\u001b[1;33m)\u001b[0m\u001b[1;33m\u001b[0m\u001b[0m\n\u001b[0;32m    188\u001b[0m \u001b[1;33m\u001b[0m\u001b[0m\n",
        "\u001b[1;31mAttributeError\u001b[0m: 'str' object has no attribute 'id'"
       ]
      }
     ],
     "prompt_number": 11
    },
    {
     "cell_type": "markdown",
     "metadata": {},
     "source": [
      "This is the first version of trying to extract the data from the information files and using Primer 3 find the suitable primers."
     ]
    },
    {
     "cell_type": "code",
     "collapsed": false,
     "input": [
      "choice = (raw_input(\"Are you using default data y/n:\"))\n",
      "if choice == 'y':\n",
      "    filex = open(\"defdata.txt\", \"r\")\n",
      "else:\n",
      "    filex = open(\"testdata.txt\", \"r\")\n",
      "while(filex.readline() != \"\"):\n",
      "    line = filex.readline();\n",
      "    alpha = line.split()\n",
      "    print alpha[0]\n",
      "    print alpha[1]\n",
      "    species = alpha[0]\n",
      "    #loci = Seq(alpha[1],generic_dna)\n",
      "    loci = alpha[1]\n",
      "    SeqIO.write(loci, \"temp.fasta\", \"fasta\")\n",
      "    filex = open(\"testdata.txt\", \"r\")\n",
      "    prmlist= Primer3Commandline(cmd=\"eprimer32\",sequence = \"temp.fasta\", auto=True,hybridprobe = True)\n",
      "    #prmlist= Primer3Commandline(cmd=\"eprimer32\",sequence = loci, auto=True,hybridprobe = True)\n",
      "    prmlist.explainflag = True\n",
      "    prmlist.osizeopt=20\n",
      "    prmlist.psizeopt=200\n",
      "    prmlist.outfile = \"prmtext.txt\"\n",
      "    #prmlist()\n",
      "    print (prmlist)\n",
      "    print(Primer3.read(StringIO(open(\"prmtext.txt\",\"r\"))))"
     ],
     "language": "python",
     "metadata": {},
     "outputs": []
    },
    {
     "cell_type": "markdown",
     "metadata": {},
     "source": [
      "The rest of the cells are potential useful pieces of code that are used for reference or aren't being utilized right now"
     ]
    },
    {
     "cell_type": "code",
     "collapsed": false,
     "input": [
      "from Bio.Seq import Seq\n",
      "from Bio.Alphabet import IUPAC\n",
      "SEQUENCE_ID = species\n",
      "#2 versions for SEQUENCE_TEMPLATE\n",
      "SEQUENCE_TEMPLATE = loci\n",
      "SEQUENCE_TEMPLATE = Seq(loci, IUPAC.unambigous_dna)\n",
      "="
     ],
     "language": "python",
     "metadata": {},
     "outputs": [],
     "prompt_number": 0
    },
    {
     "cell_type": "code",
     "collapsed": false,
     "input": [
      "SeqIO.write(loci, \"temp.fasta\", \"fasta\")\n",
      "prmlist= Primer3Commandline(cmd=\"eprimer3\",sequence = \"temp.fasta\", auto=True,hybridprobe = True)\n",
      "prmlist.explainflag = True\n",
      "prmlist.osizeopt=20\n",
      "prmlist.psizeopt=200\n",
      "prmlist.outfile = \"prmtext.txt\"\n",
      "prmlist()\n",
      "print (prmlist)\n",
      "print(Primer3.read(StringIO(open(\"prmtext.txt\",\"r\"))))"
     ],
     "language": "python",
     "metadata": {},
     "outputs": []
    },
    {
     "cell_type": "code",
     "collapsed": false,
     "input": [
      "class PrimerTarget:\n",
      "    \"\"\"\n",
      "    Represents a primer target region, with functions to run primer3\n",
      "    \"\"\"\n",
      "    def __init__(self, chrom, pos, target, seq_record):\n",
      "        self.chrom = chrom\n",
      "        self.pos = pos\n",
      "        self.target = target\n",
      "        self.sequence = seq_record\n",
      "    def __repr__(self):\n",
      "        s = \"PrimerTarget(chrom={0}, pos={1}, target={2}, seq_record=SeqRecord(..) )\"\n",
      "        return s.format(self.chrom, self.pos, self.target)\n",
      "    def _parse_primers(self, primer_text):\n",
      "        rec = Primer3.read(StringIO(primer_text))\n",
      "        return rec\n",
      "    def find_primers(self, **kwargs):\n",
      "        \"\"\" \"\"\"\n",
      "        SeqIO.write(self.sequence, \"temp.fasta\", \"fasta\")\n",
      "        call= Primer3Commandline(cmd=\"eprimer32\",\n",
      "        sequence = \"temp.fasta\",\n",
      "        stdout=True, auto=True,\n",
      "        target = \"{0},{1}\".format(*self.target),\n",
      "        **kwargs)\n",
      "        out, err = call()\n",
      "    if err:\n",
      "        print err\n",
      "        return out,err\n",
      "    return self._parse_primers(out) \n",
      "def design_primers(target_region, gc_slide = [20,18,15]):\n",
      "    \"\"\" \"\"\"\n",
      "    name = \"{0}_{1}\".format(target_region.chrom, target_region.pos)\n",
      "    #Does it work by default?\n",
      "    recs = target_region.find_primers(numreturn=1, mintm=57, maxtm=63, maxdifftm=5,)\n",
      "    if recs.primers:\n",
      "        return (name, recs.primers[0])\n",
      "    #OK, how about allowing more and more AT rich\n",
      "    for gc in gc_slide:\n",
      "        recs = target_region.find_primers(numreturn=1, mingc=gc, mintm=57, maxtm=63,maxdifftm=5)\n",
      "        if recs.primers:\n",
      "            return (name, recs.primers[0])\n",
      "    #last desperate attempt\n",
      "    recs = target_region.find_primers(numreturn=1, mingc=15, mintm=48, maxtm=70,maxdifftm=5)\n",
      "    if recs.primers:\n",
      "        return (name, recs.primers[0])\n",
      "    #We just didn't get one, I guess\n",
      "    return None \n",
      "def main():\n",
      "    \"\"\"try:\n",
      "        n, ref, bam, out_name = sys.argv[1:]\n",
      "    except ValueError:\n",
      "        print (\"Need exactly four arguments: number of replicates, reference genome and bam (header) file name of our file\")\n",
      "        return(-1)\n",
      "    print(\"====Sampling the genome====\\n\")\n",
      "    genome = parse_header(bam)\n",
      "    bases = [random.randint(0, genome[-1].end) for _ in range(int(n))]\n",
      "    sites = []\n",
      "    for b in bases:\n",
      "        i = 0\n",
      "        while genome[i].end < b:\n",
      "            i += 1\n",
      "        sites.append( (genome[i].name, b - genome[i].start) )\"\"\"\n",
      "    #print(\"====Designing Primers=====\")\n",
      "    ref_idx = SeqIO.index(ref, \"fasta\")\n",
      "    seqs = [slice_seq(*x, idx=ref_idx) for x in sites]\n",
      "    print(len(seqs))\n",
      "    primers = (design_primers(t) for t in seqs) #generator\n",
      "    counter = 0\n",
      "    with open(out_name, \"w\") as out:\n",
      "        for site_name,p in primers:\n",
      "            if p:\n",
      "                out.write(\"{0} {1} {2}\\n\".format(site_name, p.forward_seq, p.reverse_seq))\n",
      "                counter += 1\n",
      "    print(\"Wrote primers for {0} out of {1} sites\".format(counter, n))\n",
      " \n",
      "    if __name__ == \"__main__\":\n",
      "        main() "
     ],
     "language": "python",
     "metadata": {},
     "outputs": []
    }
   ],
   "metadata": {}
  }
 ]
}