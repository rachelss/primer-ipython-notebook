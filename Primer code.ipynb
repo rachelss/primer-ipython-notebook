{
 "metadata": {
  "name": "",
  "signature": "sha256:5ae90badd02304a8036ecd35db68905a79c1314a3b7d84f4b07640edcf106ce3"
 },
 "nbformat": 3,
 "nbformat_minor": 0,
 "worksheets": [
  {
   "cells": [
    {
     "cell_type": "markdown",
     "metadata": {},
     "source": [
      "just makes a file that can be used as default to test the primer program"
     ]
    },
    {
     "cell_type": "code",
     "collapsed": false,
     "input": [
      "filex = open(\"defdata.txt\",\"w\")\n",
      "filex.write(\">Species1\\n AAATTTACCCCCTCGTCGCCTAGAATTACCTACCGCGGTCGACCATACC\\n\")\n",
      "filex.write(\">Species2\\n AAAAAAGCACCCCTCGTCGCCTAGAATTACCTTTAACGTCGACCATACC\\n\")\n",
      "filex.write(\">Species3\\n AAAAAAGCACCCCTCGTCGCCTAGAATTACCTACCGCGTCGACCATACC\\n\")\n",
      "filex.write(\">Species4\\n AAAAAATTAAGCTCGTCGCCTAGAATTACCTACCGCGGTCGACCATACC\\n\")\n",
      "filex.write(\">Species5\\n AAAAAAGCACCCCTCGTCGCCGATTTTACCTACCGCGGTCGACCATACC\\n\")\n",
      "filex.close()\n",
      "    "
     ],
     "language": "python",
     "metadata": {},
     "outputs": [],
     "prompt_number": 4
    },
    {
     "cell_type": "markdown",
     "metadata": {},
     "source": [
      "This allows a user to create a custom random data set. The user is prompted the amount of basepairs they want, the amount of species to compare to, and the amount of variation they want between species. Then a for loop creates the original strand of DNA. Another for loop is used right afterwards which copies the DNA to a new array and then mutates it randomly and stores it as line in a file in the format.\n",
      "\n",
      "Right now the outputfile gets the correct elements, but has a bunch of nonsense text after it. "
     ]
    },
    {
     "cell_type": "code",
     "collapsed": false,
     "input": [
      "#Tester\n",
      "from random import randint\n",
      "basepairs = [\"A\",\"T\",\"C\",\"G\"]\n",
      "dna = []\n",
      "passdna = \"\"\n",
      "bplength = int(raw_input(\"How many basepairs do you want the test DNA to be:\"))\n",
      "speciesam = int(raw_input(\"How many species do you want:\"))\n",
      "variation = int(raw_input(\"How much variation do you want in the species from 1-10 with 10 being the most variation:\"))\n",
      "filey = open(\"testdata.txt\",\"w\")\n",
      "for a in range(0,bplength):\n",
      "    dna.append(basepairs[randint(0,3)])\n",
      "for a in range(0,speciesam):\n",
      "    passdna = \"\"\n",
      "    mutdna = dna\n",
      "    for b in range(0,bplength-5):\n",
      "        if(randint(1,100) >= (100-variation*5)):\n",
      "            for c in range(0,5):\n",
      "                mutdna[b+c] = basepairs[randint(0,3)]\n",
      "                b = b + 1\n",
      "    for d in range(0,bplength):\n",
      "        passdna += mutdna[d]\n",
      "    filey.write(\">Species\" + `(a+1)` + \"\\n\" + passdna +\"\\n\")\n",
      "filey.close()\n",
      "filey = open(\"testdata.txt\",\"r\")\n",
      "print filey.read()\n",
      "filey.close()\n"
     ],
     "language": "python",
     "metadata": {},
     "outputs": [
      {
       "name": "stdout",
       "output_type": "stream",
       "stream": "stdout",
       "text": [
        "How many basepairs do you want the test DNA to be:1000\n"
       ]
      },
      {
       "name": "stdout",
       "output_type": "stream",
       "stream": "stdout",
       "text": [
        "How many species do you want:5\n"
       ]
      },
      {
       "name": "stdout",
       "output_type": "stream",
       "stream": "stdout",
       "text": [
        "How much variation do you want in the species from 1-10 with 10 being the most variation:2\n"
       ]
      },
      {
       "output_type": "stream",
       "stream": "stdout",
       "text": [
        ">Species1\n",
        "GGAAGCACCTGACACCTATGACTACATCGGGAATATAAAGGAACTCAATGAGTGGCGCCGAGGTGATGGAGCGAGCAGACCTGAGCGTTGAACTGAGTCCAACCTCCCGAGATGATCGGGTATACTGCCGACACACCTGGTCATCTGCCAGATATCTTTTTGGCACAAAGGGTGCTAACCAAATTTCAGGTTCAGCAACTAGTTGTTCTAATGATACGCATCAAAGCTAGGGCATAGCGCACCCATTCATGCCTCCGGGACACTGAGGTCATTTTATTCGGCTAGGTTACCTATACCCTCCCCTATGTCCTATGTGGTTTTACACGGGTTTTACTTCTGGGTCATATCACGGCTGCATATGGTCTGGTCCGGTAATCGCTGCTCTTACTAAATACCCTAATTAGAGATCTATAAACCGAACGAACGATAAGTGATGGCATGACGGATCCTTGCCATTGGTCGTGGAATAGGCTCCACACTTCAACTGGTTCGCGCAACGTGGTAGGAAAATCGCGGGCAGCCTGGCCGCGTATTTTCTTGCCTTCAATTGATCGTTGGTCGTCCTGTCCTGCCTAACTTACTGGTATAGGGTTAGCTGGGGGTTCCTTGGAGCTATGCCTACTAGGAATAATTTCGGTCGCTTTCATGACAACCACAAGGTGATTGCATTTGCTTTGGTTATTGTTTATAGCGGCGCTACATGCCAAACAGCATATCGTCAGCTAAAACAGCTTTACTAGGTTCGATACCAGGGATGTTGCAGAGATCGGGAGGGTCGTGCCTGTCGCGTGCCTAAAATTTAATGTAGGCGGAGCACAGGCTGCCCGGATAGCTAGAGACATCTGAGTCATACTTATCATCTATTTTCCTCCCATGTCGAATTAGAATCGTTCAGGTGTGACACCCTTCTTAACGCGATTCTCAGAAAGCTCTAAGCTGACAAGACTTTGATGGTGATCTGTTGAGCACTTTATGGAAAATCTAAAATTATAAGCATGTT\n",
        ">Species2\n",
        "GCTGGCACCTGACACCTATGACTACATCGGGAATATAAAGGAACTCAATGAGTGGCGCCGAGGTGATGGAGCGAGCAGACCTGAGCGTTGAACTGAGTCCAACCTCCCGAGATGATCGGGTATACTGCCGACACACCTGGTCATCTGCCAGATATCTTTTTGGCACAAAGGGTGCTAACCAAATTTCAGGTTCAGCAACTAGTTGTTCTAATGATACGCATCAAAGCTAGGGCATAGCGCACCCATTCATGCCTCCGGGACACTGAGGTCATTTTATTCGGCTAGGTTACCTATACCCTCCCCTATGTCCTATGTGGTTTTACACGGGTTTTACTTCTGGGTCATATCACGGCTGCATATGGTCTGGTCCGGTAATCGCTGCTCTTACTAAATACCCTAATTAGAGATCTATAAACCGAACGAACGATAAGTGATGGCATGACGGATCCTTGCCATTGGTCGTGGAATAGGCTCCACACTTCAACTGGTTCGCGCAACGTGGTAGGAAAATCGCGGGCAGCCTGGCCGCGTATTTTCTTGCCTTCAATTGATCGTTGGTCGTCCTGTCCTGCCTAACTTACTGGTATAGGGTTAGCTGGGGGTTCCTTGGAGCTATGCCTACTAGGAATAATTTCGGTCGCTTTCATGACAACCACAAGGTGATTGCATTTGCTTTGGTTATTGTTTATAGCGGCGCTACATGCCAAACAGCATATCGTCAGCTAAAACAGCTTTACTAGGTTCGATACCAGGGATGTTGCAGAGATCGGGAGGGTCGTGCCTGTCGCGTGCCTAAAATTTAATGTAGGCGGAGCACAGGCTGCCCGGATAGCTAGAGACATCTGAGTCATACTTATCATCTATTTTCCTCCCATGTCGAATTAGAATCGTTCAGGTGTGACACCCTTCTTAACGCGATTCTCAGAAAGCTCTAAGCTGACAAGACTTTGATGGTGATCTGTTGAGCACTTTATGGAAAATCTAAAATTATAAGCATGTT\n",
        ">Species3\n",
        "GCGCTTGCCTGACACCTATGACTACATCGGGAATATAAAGGAACTCAATGAGTGGCGCCGAGGTGATGGAGCGAGCAGACCTGAGCGTTGAACTGAGTCCAACCTCCCGAGATGATCGGGTATACTGCCGACACACCTGGTCATCTGCCAGATATCTTTTTGGCACAAAGGGTGCTAACCAAATTTCAGGTTCAGCAACTAGTTGTTCTAATGATACGCATCAAAGCTAGGGCATAGCGCACCCATTCATGCCTCCGGGACACTGAGGTCATTTTATTCGGCTAGGTTACCTATACCCTCCCCTATGTCCTATGTGGTTTTACACGGGTTTTACTTCTGGGTCATATCACGGCTGCATATGGTCTGGTCCGGTAATCGCTGCTCTTACTAAATACCCTAATTAGAGATCTATAAACCGAACGAACGATAAGTGATGGCATGACGGATCCTTGCCATTGGTCGTGGAATAGGCTCCACACTTCAACTGGTTCGCGCAACGTGGTAGGAAAATCGCGGGCAGCCTGGCCGCGTATTTTCTTGCCTTCAATTGATCGTTGGTCGTCCTGTCCTGCCTAACTTACTGGTATAGGGTTAGCTGGGGGTTCCTTGGAGCTATGCCTACTAGGAATAATTTCGGTCGCTTTCATGACAACCACAAGGTGATTGCATTTGCTTTGGTTATTGTTTATAGCGGCGCTACATGCCAAACAGCATATCGTCAGCTAAAACAGCTTTACTAGGTTCGATACCAGGGATGTTGCAGAGATCGGGAGGGTCGTGCCTGTCGCGTGCCTAAAATTTAATGTAGGCGGAGCACAGGCTGCCCGGATAGCTAGAGACATCTGAGTCATACTTATCATCTATTTTCCTCCCATGTCGAATTAGAATCGTTCAGGTGTGACACCCTTCTTAACGCGATTCTCAGAAAGCTCTAAGCTGACAAGACTTTGATGGTGATCTGTTGAGCACTTTATGGAAAATCTAAAATTATAAGCATGTT\n",
        ">Species4\n",
        "GCGTAAGGCTGACACCTATGACTACATCGGGAATATAAAGGAACTCAATGAGTGGCGCCGAGGTGATGGAGCGAGCAGACCTGAGCGTTGAACTGAGTCCAACCTCCCGAGATGATCGGGTATACTGCCGACACACCTGGTCATCTGCCAGATATCTTTTTGGCACAAAGGGTGCTAACCAAATTTCAGGTTCAGCAACTAGTTGTTCTAATGATACGCATCAAAGCTAGGGCATAGCGCACCCATTCATGCCTCCGGGACACTGAGGTCATTTTATTCGGCTAGGTTACCTATACCCTCCCCTATGTCCTATGTGGTTTTACACGGGTTTTACTTCTGGGTCATATCACGGCTGCATATGGTCTGGTCCGGTAATCGCTGCTCTTACTAAATACCCTAATTAGAGATCTATAAACCGAACGAACGATAAGTGATGGCATGACGGATCCTTGCCATTGGTCGTGGAATAGGCTCCACACTTCAACTGGTTCGCGCAACGTGGTAGGAAAATCGCGGGCAGCCTGGCCGCGTATTTTCTTGCCTTCAATTGATCGTTGGTCGTCCTGTCCTGCCTAACTTACTGGTATAGGGTTAGCTGGGGGTTCCTTGGAGCTATGCCTACTAGGAATAATTTCGGTCGCTTTCATGACAACCACAAGGTGATTGCATTTGCTTTGGTTATTGTTTATAGCGGCGCTACATGCCAAACAGCATATCGTCAGCTAAAACAGCTTTACTAGGTTCGATACCAGGGATGTTGCAGAGATCGGGAGGGTCGTGCCTGTCGCGTGCCTAAAATTTAATGTAGGCGGAGCACAGGCTGCCCGGATAGCTAGAGACATCTGAGTCATACTTATCATCTATTTTCCTCCCATGTCGAATTAGAATCGTTCAGGTGTGACACCCTTCTTAACGCGATTCTCAGAAAGCTCTAAGCTGACAAGACTTTGATGGTGATCTGTTGAGCACTTTATGGAAAATCTAAAATTATAAGCATGTT\n",
        ">Species5\n",
        "GCGTCCAAATGACACCTATGACTACATCGGGAATATAAAGGAACTCAATGAGTGGCGCCGAGGTGATGGAGCGAGCAGACCTGAGCGTTGAACTGAGTCCAACCTCCCGAGATGATCGGGTATACTGCCGACACACCTGGTCATCTGCCAGATATCTTTTTGGCACAAAGGGTGCTAACCAAATTTCAGGTTCAGCAACTAGTTGTTCTAATGATACGCATCAAAGCTAGGGCATAGCGCACCCATTCATGCCTCCGGGACACTGAGGTCATTTTATTCGGCTAGGTTACCTATACCCTCCCCTATGTCCTATGTGGTTTTACACGGGTTTTACTTCTGGGTCATATCACGGCTGCATATGGTCTGGTCCGGTAATCGCTGCTCTTACTAAATACCCTAATTAGAGATCTATAAACCGAACGAACGATAAGTGATGGCATGACGGATCCTTGCCATTGGTCGTGGAATAGGCTCCACACTTCAACTGGTTCGCGCAACGTGGTAGGAAAATCGCGGGCAGCCTGGCCGCGTATTTTCTTGCCTTCAATTGATCGTTGGTCGTCCTGTCCTGCCTAACTTACTGGTATAGGGTTAGCTGGGGGTTCCTTGGAGCTATGCCTACTAGGAATAATTTCGGTCGCTTTCATGACAACCACAAGGTGATTGCATTTGCTTTGGTTATTGTTTATAGCGGCGCTACATGCCAAACAGCATATCGTCAGCTAAAACAGCTTTACTAGGTTCGATACCAGGGATGTTGCAGAGATCGGGAGGGTCGTGCCTGTCGCGTGCCTAAAATTTAATGTAGGCGGAGCACAGGCTGCCCGGATAGCTAGAGACATCTGAGTCATACTTATCATCTATTTTCCTCCCATGTCGAATTAGAATCGTTCAGGTGTGACACCCTTCTTAACGCGATTCTCAGAAAGCTCTAAGCTGACAAGACTTTGATGGTGATCTGTTGAGCACTTTATGGAAAATCTAAAATTATAAGCATGTT\n",
        "\n"
       ]
      }
     ],
     "prompt_number": 17
    },
    {
     "cell_type": "markdown",
     "metadata": {},
     "source": [
      "This just imports the commands possibly needed in order to run the Primer3 program and other support functions. It is just kept in a seperate cell for clarity."
     ]
    },
    {
     "cell_type": "code",
     "collapsed": false,
     "input": [
      "import sys\n",
      "import subprocess\n",
      "import collections\n",
      "import random\n",
      " \n",
      "from StringIO import StringIO\n",
      " \n",
      "from Bio import SeqIO\n",
      "from Bio import Seq\n",
      "from Bio.Alphabet import generic_dna\n",
      "from Bio.Emboss import Primer3\n",
      "from Bio.Emboss.Applications import Primer3Commandline\n",
      "from Bio import AlignIO\n",
      "from Bio.Align import AlignInfo\n"
     ],
     "language": "python",
     "metadata": {},
     "outputs": [],
     "prompt_number": 2
    },
    {
     "cell_type": "markdown",
     "metadata": {},
     "source": [
      "This is a previous version (1) of creating the concesus dna string"
     ]
    },
    {
     "cell_type": "code",
     "collapsed": false,
     "input": [
      "choice = (raw_input(\"Are you using default data y/n:\"))\n",
      "if choice == 'y':\n",
      "    with open(\"defdata.txt\", \"r\") as f:\n",
      "        with open (\"temp.seq\", \"w\") as f1:\n",
      "            for line in f:\n",
      "                if \"ROW\" in line:\n",
      "                    f1.write(line)\n",
      "        f1.close()\n",
      "    f.close()\n",
      "else:\n",
      "    with open(\"testdata.txt\", \"r\") as f:\n",
      "        with open (\"temp.seq\", \"w\") as f1:\n",
      "            for line in f:\n",
      "                if \"ROW\" in line:\n",
      "                    f1.write(line)\n",
      "        f1.close()\n",
      "    f.close()\n"
     ],
     "language": "python",
     "metadata": {},
     "outputs": []
    },
    {
     "cell_type": "markdown",
     "metadata": {},
     "source": [
      "this is a previous version (2) of creating the concensus string"
     ]
    },
    {
     "cell_type": "code",
     "collapsed": false,
     "input": [
      "choice = (raw_input(\"Are you using default data y/n:\"))\n",
      "if choice == 'y':\n",
      "    filex = open(\"defdata.txt\", \"r\")\n",
      "else:\n",
      "    filex = open(\"testdata.txt\", \"r\")\n",
      "alpha = []\n",
      "while(filex.readline() != \"\"):\n",
      "    species = filex.readline();\n",
      "    loci = filex.readline();\n",
      "    alpha.append(loci)\n",
      "print alpha     "
     ],
     "language": "python",
     "metadata": {},
     "outputs": [
      {
       "name": "stdout",
       "output_type": "stream",
       "stream": "stdout",
       "text": [
        "Are you using default data y/n:n\n"
       ]
      },
      {
       "output_type": "stream",
       "stream": "stdout",
       "text": [
        "['>Species2\\n', 'GCGCTTGCCTGACACCTATGACTACATCGGGAATATAAAGGAACTCAATGAGTGGCGCCGAGGTGATGGAGCGAGCAGACCTGAGCGTTGAACTGAGTCCAACCTCCCGAGATGATCGGGTATACTGCCGACACACCTGGTCATCTGCCAGATATCTTTTTGGCACAAAGGGTGCTAACCAAATTTCAGGTTCAGCAACTAGTTGTTCTAATGATACGCATCAAAGCTAGGGCATAGCGCACCCATTCATGCCTCCGGGACACTGAGGTCATTTTATTCGGCTAGGTTACCTATACCCTCCCCTATGTCCTATGTGGTTTTACACGGGTTTTACTTCTGGGTCATATCACGGCTGCATATGGTCTGGTCCGGTAATCGCTGCTCTTACTAAATACCCTAATTAGAGATCTATAAACCGAACGAACGATAAGTGATGGCATGACGGATCCTTGCCATTGGTCGTGGAATAGGCTCCACACTTCAACTGGTTCGCGCAACGTGGTAGGAAAATCGCGGGCAGCCTGGCCGCGTATTTTCTTGCCTTCAATTGATCGTTGGTCGTCCTGTCCTGCCTAACTTACTGGTATAGGGTTAGCTGGGGGTTCCTTGGAGCTATGCCTACTAGGAATAATTTCGGTCGCTTTCATGACAACCACAAGGTGATTGCATTTGCTTTGGTTATTGTTTATAGCGGCGCTACATGCCAAACAGCATATCGTCAGCTAAAACAGCTTTACTAGGTTCGATACCAGGGATGTTGCAGAGATCGGGAGGGTCGTGCCTGTCGCGTGCCTAAAATTTAATGTAGGCGGAGCACAGGCTGCCCGGATAGCTAGAGACATCTGAGTCATACTTATCATCTATTTTCCTCCCATGTCGAATTAGAATCGTTCAGGTGTGACACCCTTCTTAACGCGATTCTCAGAAAGCTCTAAGCTGACAAGACTTTGATGGTGATCTGTTGAGCACTTTATGGAAAATCTAAAATTATAAGCATGTT\\n', '>Species5\\n', '']\n"
       ]
      }
     ],
     "prompt_number": 30
    },
    {
     "cell_type": "markdown",
     "metadata": {},
     "source": [
      "this is current working version of creating the concensus string"
     ]
    },
    {
     "cell_type": "code",
     "collapsed": false,
     "input": [
      "choice = (raw_input(\"Are you using default data y/n:\"))\n",
      "if choice == 'y':\n",
      "    filex = open(\"defdata.txt\", \"r\")\n",
      "else:\n",
      "    filex = open(\"testdata.txt\", \"r\")\n",
      "alignment = AlignIO.read(filex, \"fasta\")\n",
      "filex.close()\n",
      "print (alignment)\n",
      "print(\"\\n\")\n",
      "summary_align = AlignInfo.SummaryInfo(alignment)\n",
      "consensus = summary_align.dumb_consensus(.8,'N')\n",
      "print (consensus)\n",
      "#SeqIO.write(consensus, 'consensus.fasta', \"fasta\")\n",
      "filey = open(\"consensus.fasta\",\"w\")\n",
      "filey.write(\">Consensus\\n\")\n",
      "filey.write(str(consensus))\n",
      "filey.close()\n"
     ],
     "language": "python",
     "metadata": {},
     "outputs": [
      {
       "name": "stdout",
       "output_type": "stream",
       "stream": "stdout",
       "text": [
        "Are you using default data y/n:n\n"
       ]
      },
      {
       "output_type": "stream",
       "stream": "stdout",
       "text": [
        "SingleLetterAlphabet() alignment with 5 rows and 1000 columns\n",
        "GGAAGCACCTGACACCTATGACTACATCGGGAATATAAAGGAAC...GTT Species1\n",
        "GCTGGCACCTGACACCTATGACTACATCGGGAATATAAAGGAAC...GTT Species2\n",
        "GCGCTTGCCTGACACCTATGACTACATCGGGAATATAAAGGAAC...GTT Species3\n",
        "GCGTAAGGCTGACACCTATGACTACATCGGGAATATAAAGGAAC...GTT Species4\n",
        "GCGTCCAAATGACACCTATGACTACATCGGGAATATAAAGGAAC...GTT Species5\n",
        "\n",
        "\n",
        "GCNNNNNNCTGACACCTATGACTACATCGGGAATATAAAGGAACTCAATGAGTGGCGCCGAGGTGATGGAGCGAGCAGACCTGAGCGTTGAACTGAGTCCAACCTCCCGAGATGATCGGGTATACTGCCGACACACCTGGTCATCTGCCAGATATCTTTTTGGCACAAAGGGTGCTAACCAAATTTCAGGTTCAGCAACTAGTTGTTCTAATGATACGCATCAAAGCTAGGGCATAGCGCACCCATTCATGCCTCCGGGACACTGAGGTCATTTTATTCGGCTAGGTTACCTATACCCTCCCCTATGTCCTATGTGGTTTTACACGGGTTTTACTTCTGGGTCATATCACGGCTGCATATGGTCTGGTCCGGTAATCGCTGCTCTTACTAAATACCCTAATTAGAGATCTATAAACCGAACGAACGATAAGTGATGGCATGACGGATCCTTGCCATTGGTCGTGGAATAGGCTCCACACTTCAACTGGTTCGCGCAACGTGGTAGGAAAATCGCGGGCAGCCTGGCCGCGTATTTTCTTGCCTTCAATTGATCGTTGGTCGTCCTGTCCTGCCTAACTTACTGGTATAGGGTTAGCTGGGGGTTCCTTGGAGCTATGCCTACTAGGAATAATTTCGGTCGCTTTCATGACAACCACAAGGTGATTGCATTTGCTTTGGTTATTGTTTATAGCGGCGCTACATGCCAAACAGCATATCGTCAGCTAAAACAGCTTTACTAGGTTCGATACCAGGGATGTTGCAGAGATCGGGAGGGTCGTGCCTGTCGCGTGCCTAAAATTTAATGTAGGCGGAGCACAGGCTGCCCGGATAGCTAGAGACATCTGAGTCATACTTATCATCTATTTTCCTCCCATGTCGAATTAGAATCGTTCAGGTGTGACACCCTTCTTAACGCGATTCTCAGAAAGCTCTAAGCTGACAAGACTTTGATGGTGATCTGTTGAGCACTTTATGGAAAATCTAAAATTATAAGCATGTT"
       ]
      },
      {
       "output_type": "stream",
       "stream": "stdout",
       "text": [
        "\n"
       ]
      }
     ],
     "prompt_number": 32
    },
    {
     "cell_type": "markdown",
     "metadata": {},
     "source": [
      "This is the current semi-working version of trying to extract the data from the information files and using Primer 3 find the suitable primers."
     ]
    },
    {
     "cell_type": "code",
     "collapsed": false,
     "input": [
      "\n",
      "#SeqIO.write(\"temp.seq\", \"temp.fas\", \"fasta\")\n",
      "#prmlist= Primer3Commandline(sequence = \"testdata.txt\", auto=True,hybridprobe = True)\n",
      "prmlist= Primer3Commandline(cmd=\"eprimer32\",sequence = 'consensus.fasta', auto=True,hybridprobe = True)\n",
      "prmlist.outfile = 'prmtext.txt'\n",
      "prmlist()\n",
      "print (prmlist)\n",
      "!cat prmtext.txt"
     ],
     "language": "python",
     "metadata": {},
     "outputs": [
      {
       "output_type": "stream",
       "stream": "stdout",
       "text": [
        "eprimer32 -auto -outfile=prmtext.txt -sequence=consensus.fasta -hybridprobe=True\n",
        "\r\n",
        "# EPRIMER32 RESULTS FOR Consensus\r\n",
        "\r\n",
        "#                      Start  Len   Tm     GC%   Sequence\r\n",
        "\r\n",
        "   1 PRODUCT SIZE: 202\r\n",
        "     FORWARD PRIMER     339   20  60.25  55.00  GGGTCATATCACGGCTGCAT\r\n",
        "\r\n",
        "     REVERSE PRIMER     521   20  59.90  55.00  CAAGAAAATACGCGGCCAGG\r\n",
        "\r\n",
        "\r\n",
        "   2 PRODUCT SIZE: 198\r\n",
        "     FORWARD PRIMER     347   20  60.18  55.00  TCACGGCTGCATATGGTCTG\r\n",
        "\r\n",
        "     REVERSE PRIMER     525   20  59.83  50.00  AAGGCAAGAAAATACGCGGC\r\n",
        "\r\n",
        "\r\n",
        "   3 PRODUCT SIZE: 202\r\n",
        "     FORWARD PRIMER     367   20  60.18  55.00  GTCCGGTAATCGCTGCTCTT\r\n",
        "\r\n",
        "     REVERSE PRIMER     549   20  59.76  55.00  GACAGGACGACCAACGATCA\r\n",
        "\r\n",
        "\r\n",
        "   4 PRODUCT SIZE: 194\r\n",
        "     FORWARD PRIMER     347   20  60.18  55.00  TCACGGCTGCATATGGTCTG\r\n",
        "\r\n",
        "     REVERSE PRIMER     521   20  59.90  55.00  CAAGAAAATACGCGGCCAGG\r\n",
        "\r\n",
        "\r\n",
        "   5 PRODUCT SIZE: 196\r\n",
        "     FORWARD PRIMER     255   20  59.67  55.00  CCGGGACACTGAGGTCATTT\r\n",
        "\r\n",
        "     REVERSE PRIMER     431   20  59.89  55.00  AGGATCCGTCATGCCATCAC\r\n",
        "\r\n",
        "\r\n",
        "\r\n"
       ]
      }
     ],
     "prompt_number": 34
    },
    {
     "cell_type": "markdown",
     "metadata": {},
     "source": [
      "This is a pervious non-working version of trying to extract the data from the information files and using Primer 3 find the suitable primers."
     ]
    },
    {
     "cell_type": "code",
     "collapsed": false,
     "input": [
      "choice = (raw_input(\"Are you using default data y/n:\"))\n",
      "if choice == 'y':\n",
      "    with open(\"defdata.txt\", \"r\") as f:\n",
      "        with open (\"temp.seq\", \"w\") as f1:\n",
      "            for line in f:\n",
      "                if \"ROW\" in line:\n",
      "                    f1.write(line)    \n",
      "else:\n",
      "    with open(\"testdata.txt\", \"r\") as f:\n",
      "        with open (\"temp.seq\", \"w\") as f1:\n",
      "            for line in f:\n",
      "                if \"ROW\" in line:\n",
      "                    f1.write(line) "
     ],
     "language": "python",
     "metadata": {},
     "outputs": []
    },
    {
     "cell_type": "markdown",
     "metadata": {},
     "source": [
      "The rest of the cells are potential useful pieces of code that are used for reference or aren't being utilized right now"
     ]
    },
    {
     "cell_type": "code",
     "collapsed": false,
     "input": [
      "choice = (raw_input(\"Are you using default data y/n:\"))\n",
      "if choice == 'y':\n",
      "    filex = open(\"defdata.txt\", \"r\")\n",
      "else:\n",
      "    filex = open(\"testdata.txt\", \"r\")\n",
      "while(filex.readline() != \"\"):\n",
      "    line = filex.readline();\n",
      "    alpha = line.split()\n",
      "    print alpha[0]\n",
      "    print alpha[1]\n",
      "    species = alpha[0]\n",
      "    #loci = Seq(alpha[1],generic_dna)\n",
      "    loci = alpha[1]\n",
      "    SeqIO.write(loci, \"temp.fasta\", \"fasta\")\n",
      "    filex = open(\"testdata.txt\", \"r\")\n",
      "    prmlist= Primer3Commandline(cmd=\"eprimer32\",sequence = \"temp.fasta\", auto=True,hybridprobe = True)\n",
      "    #prmlist= Primer3Commandline(cmd=\"eprimer32\",sequence = loci, auto=True,hybridprobe = True)\n",
      "    prmlist.explainflag = True\n",
      "    prmlist.osizeopt=20\n",
      "    prmlist.psizeopt=200\n",
      "    prmlist.outfile = \"prmtext.txt\"\n",
      "    #prmlist()\n",
      "    print (prmlist)\n",
      "    print(Primer3.read(StringIO(open(\"prmtext.txt\",\"r\"))))"
     ],
     "language": "python",
     "metadata": {},
     "outputs": []
    },
    {
     "cell_type": "code",
     "collapsed": false,
     "input": [
      "from Bio.Seq import Seq\n",
      "from Bio.Alphabet import IUPAC\n",
      "SEQUENCE_ID = species\n",
      "#2 versions for SEQUENCE_TEMPLATE\n",
      "SEQUENCE_TEMPLATE = loci\n",
      "SEQUENCE_TEMPLATE = Seq(loci, IUPAC.unambigous_dna)\n",
      "="
     ],
     "language": "python",
     "metadata": {},
     "outputs": []
    },
    {
     "cell_type": "code",
     "collapsed": false,
     "input": [
      "SeqIO.write(loci, \"temp.fasta\", \"fasta\")\n",
      "prmlist= Primer3Commandline(cmd=\"eprimer3\",sequence = \"temp.fasta\", auto=True,hybridprobe = True)\n",
      "prmlist.explainflag = True\n",
      "prmlist.osizeopt=20\n",
      "prmlist.psizeopt=200\n",
      "prmlist.outfile = \"prmtext.txt\"\n",
      "prmlist()\n",
      "print (prmlist)\n",
      "print(Primer3.read(StringIO(open(\"prmtext.txt\",\"r\"))))"
     ],
     "language": "python",
     "metadata": {},
     "outputs": []
    },
    {
     "cell_type": "code",
     "collapsed": false,
     "input": [
      "class PrimerTarget:\n",
      "    \"\"\"\n",
      "    Represents a primer target region, with functions to run primer3\n",
      "    \"\"\"\n",
      "    def __init__(self, chrom, pos, target, seq_record):\n",
      "        self.chrom = chrom\n",
      "        self.pos = pos\n",
      "        self.target = target\n",
      "        self.sequence = seq_record\n",
      "    def __repr__(self):\n",
      "        s = \"PrimerTarget(chrom={0}, pos={1}, target={2}, seq_record=SeqRecord(..) )\"\n",
      "        return s.format(self.chrom, self.pos, self.target)\n",
      "    def _parse_primers(self, primer_text):\n",
      "        rec = Primer3.read(StringIO(primer_text))\n",
      "        return rec\n",
      "    def find_primers(self, **kwargs):\n",
      "        \"\"\" \"\"\"\n",
      "        SeqIO.write(self.sequence, \"temp.fasta\", \"fasta\")\n",
      "        call= Primer3Commandline(cmd=\"eprimer32\",\n",
      "        sequence = \"temp.fasta\",\n",
      "        stdout=True, auto=True,\n",
      "        target = \"{0},{1}\".format(*self.target),\n",
      "        **kwargs)\n",
      "        out, err = call()\n",
      "    if err:\n",
      "        print err\n",
      "        return out,err\n",
      "    return self._parse_primers(out) \n",
      "def design_primers(target_region, gc_slide = [20,18,15]):\n",
      "    \"\"\" \"\"\"\n",
      "    name = \"{0}_{1}\".format(target_region.chrom, target_region.pos)\n",
      "    #Does it work by default?\n",
      "    recs = target_region.find_primers(numreturn=1, mintm=57, maxtm=63, maxdifftm=5,)\n",
      "    if recs.primers:\n",
      "        return (name, recs.primers[0])\n",
      "    #OK, how about allowing more and more AT rich\n",
      "    for gc in gc_slide:\n",
      "        recs = target_region.find_primers(numreturn=1, mingc=gc, mintm=57, maxtm=63,maxdifftm=5)\n",
      "        if recs.primers:\n",
      "            return (name, recs.primers[0])\n",
      "    #last desperate attempt\n",
      "    recs = target_region.find_primers(numreturn=1, mingc=15, mintm=48, maxtm=70,maxdifftm=5)\n",
      "    if recs.primers:\n",
      "        return (name, recs.primers[0])\n",
      "    #We just didn't get one, I guess\n",
      "    return None \n",
      "def main():\n",
      "    \"\"\"try:\n",
      "        n, ref, bam, out_name = sys.argv[1:]\n",
      "    except ValueError:\n",
      "        print (\"Need exactly four arguments: number of replicates, reference genome and bam (header) file name of our file\")\n",
      "        return(-1)\n",
      "    print(\"====Sampling the genome====\\n\")\n",
      "    genome = parse_header(bam)\n",
      "    bases = [random.randint(0, genome[-1].end) for _ in range(int(n))]\n",
      "    sites = []\n",
      "    for b in bases:\n",
      "        i = 0\n",
      "        while genome[i].end < b:\n",
      "            i += 1\n",
      "        sites.append( (genome[i].name, b - genome[i].start) )\"\"\"\n",
      "    #print(\"====Designing Primers=====\")\n",
      "    ref_idx = SeqIO.index(ref, \"fasta\")\n",
      "    seqs = [slice_seq(*x, idx=ref_idx) for x in sites]\n",
      "    print(len(seqs))\n",
      "    primers = (design_primers(t) for t in seqs) #generator\n",
      "    counter = 0\n",
      "    with open(out_name, \"w\") as out:\n",
      "        for site_name,p in primers:\n",
      "            if p:\n",
      "                out.write(\"{0} {1} {2}\\n\".format(site_name, p.forward_seq, p.reverse_seq))\n",
      "                counter += 1\n",
      "    print(\"Wrote primers for {0} out of {1} sites\".format(counter, n))\n",
      " \n",
      "    if __name__ == \"__main__\":\n",
      "        main() "
     ],
     "language": "python",
     "metadata": {},
     "outputs": []
    }
   ],
   "metadata": {}
  }
 ]
}